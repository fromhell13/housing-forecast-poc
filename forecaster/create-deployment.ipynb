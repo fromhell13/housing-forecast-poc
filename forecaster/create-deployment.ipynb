{
 "cells": [
  {
   "cell_type": "markdown",
   "id": "a29274d8",
   "metadata": {},
   "source": [
    "<h2>Setup AWS Cognito</h2>"
   ]
  },
  {
   "cell_type": "code",
   "execution_count": 1,
   "id": "175e6225",
   "metadata": {},
   "outputs": [
    {
     "name": "stdout",
     "output_type": "stream",
     "text": [
      "c:\\Users\\ZALIZANZ\\Documents\\personal\\housing-forecast-poc\\forecaster\\.venv\\Scripts\\python.exe\n",
      "c:\\Users\\ZALIZANZ\\Documents\\personal\\housing-forecast-poc\\forecaster\\utils\n",
      "sys.path[0]: c:\\Users\\ZALIZANZ\\Documents\\personal\\housing-forecast-poc\\forecaster\\utils\n"
     ]
    }
   ],
   "source": [
    "import sys\n",
    "import os\n",
    "\n",
    "print(sys.executable)\n",
    "# Get the current notebook's directory\n",
    "#current_dir = os.path.dirname(os.path.abspath('__file__' if '__file__' in globals() else '.'))\n",
    "current_dir = os.getcwd()\n",
    "\n",
    "utils_dir = os.path.join(current_dir, 'utils')\n",
    "utils_dir = os.path.abspath(utils_dir)\n",
    "print(utils_dir)\n",
    "# Add to sys.path\n",
    "sys.path.insert(0, utils_dir)\n",
    "print(\"sys.path[0]:\", sys.path[0])\n",
    "\n",
    "from utils import setup_cognito_user_pool"
   ]
  },
  {
   "cell_type": "code",
   "execution_count": 2,
   "id": "22994b5b",
   "metadata": {},
   "outputs": [
    {
     "name": "stdout",
     "output_type": "stream",
     "text": [
      "Setting up Amazon Cognito user pool...\n",
      "Region from profile: us-east-1\n",
      "Pool id: us-east-1_6Xo1XWJao\n",
      "Discovery URL: https://cognito-idp.us-east-1.amazonaws.com/us-east-1_6Xo1XWJao/.well-known/openid-configuration\n",
      "Client ID: 5rd1b1lqb0bujcs5k5p4dmgd97\n",
      "Bearer Token: eyJraWQiOiJ2aXN5TWIwZjZsTlRWUjRoWFFvekVhcnI2dGdyZlIwQ1JqbVM2NGtJN05RPSIsImFsZyI6IlJTMjU2In0.eyJzdWIiOiIyNGE4ZTQ5OC01MDYxLTcwMTQtNjcxMi1mZWYzMjc3OTdiNzgiLCJpc3MiOiJodHRwczpcL1wvY29nbml0by1pZHAudXMtZWFzdC0xLmFtYXpvbmF3cy5jb21cL3VzLWVhc3QtMV82WG8xWFdKYW8iLCJjbGllbnRfaWQiOiI1cmQxYjFscWIwYnVqY3M1azVwNGRtZ2Q5NyIsIm9yaWdpbl9qdGkiOiJjYmZlNTU1Zi0wMTAwLTQwNWMtYjRhMC1kZmJkNTdlYWM2ZGMiLCJldmVudF9pZCI6IjAzOGVmOWEyLTdhNjUtNDFlMy1hMTc3LTNiNzU3MDhlNzYxZiIsInRva2VuX3VzZSI6ImFjY2VzcyIsInNjb3BlIjoiYXdzLmNvZ25pdG8uc2lnbmluLnVzZXIuYWRtaW4iLCJhdXRoX3RpbWUiOjE3NTY4ODcwODMsImV4cCI6MTc1Njg5MDY4MywiaWF0IjoxNzU2ODg3MDgzLCJqdGkiOiJhZmMwNjZlZS0zOGMwLTRkYjctYWZjMC1jMzIzZTRjYjBhZDMiLCJ1c2VybmFtZSI6InRlc3R1c2VyIn0.J-fCCyQazXrlzhgwcgYzyZIRZpezXo4_8WvoupBSktmwhJFfnxGTyvtzcb8wYQK_S15yxNOLqfLwBhUKB7HxHsGnREYnna5E6N-Np1A5-MDZw7XGbixCGL6LmxjhIFC1BgFbrSnQTqPquKqBlL8WaqTGpe3pIShb_8jb6ddv3kfbYiXL1gZR57XDxq2aw1bQQNsgzUCWmj5_4oBv1UAddLSDDFI5pSm4mRJIqY3aY3SkTM1bHcO0TGzHvqLztFEjKjOQpuL3p-mHOjoSCkP--4OgWVMe3pvVII5ToZxdo0bS2ra_9ZDizpbOerteW0fmSg-EbsWzQmwun1kRZIJ4IQ\n",
      "Cognito setup completed ✓\n",
      "User Pool ID: N/A\n",
      "Client ID: 5rd1b1lqb0bujcs5k5p4dmgd97\n"
     ]
    }
   ],
   "source": [
    "print(\"Setting up Amazon Cognito user pool...\")\n",
    "cognito_config = setup_cognito_user_pool()\n",
    "print(\"Cognito setup completed ✓\")\n",
    "print(f\"User Pool ID: {cognito_config.get('user_pool_id', 'N/A')}\")\n",
    "print(f\"Client ID: {cognito_config.get('client_id', 'N/A')}\")"
   ]
  },
  {
   "cell_type": "markdown",
   "id": "324d8ddf",
   "metadata": {},
   "source": [
    "<h2>Configure Agentcore Runtime Deployment</h2>"
   ]
  },
  {
   "cell_type": "code",
   "execution_count": 3,
   "id": "1522fae9",
   "metadata": {},
   "outputs": [
    {
     "name": "stderr",
     "output_type": "stream",
     "text": [
      "Entrypoint parsed: file=C:\\Users\\ZALIZANZ\\Documents\\personal\\housing-forecast-poc\\forecaster\\forecast.py, bedrock_agentcore_name=forecast\n",
      "Configuring BedrockAgentCore agent: mcp_server_agentcore\n"
     ]
    },
    {
     "name": "stdout",
     "output_type": "stream",
     "text": [
      "Using AWS region: us-east-1\n",
      "All required files found ✓\n",
      "Configuring AgentCore Runtime...\n"
     ]
    },
    {
     "data": {
      "text/html": [
       "<pre style=\"white-space:pre;overflow-x:auto;line-height:normal;font-family:Menlo,'DejaVu Sans Mono',consolas,'Courier New',monospace\">\n",
       "<span style=\"color: #808000; text-decoration-color: #808000; font-weight: bold; text-decoration: underline\">⚠️  [WARNING] Platform mismatch: Current system is </span><span style=\"color: #008000; text-decoration-color: #008000; text-decoration: underline\">'linux/amd64'</span><span style=\"color: #808000; text-decoration-color: #808000; font-weight: bold; text-decoration: underline\"> but Bedrock AgentCore requires </span><span style=\"color: #008000; text-decoration-color: #008000; text-decoration: underline\">'linux/arm64'</span><span style=\"color: #808000; text-decoration-color: #808000; font-weight: bold; text-decoration: underline\">.</span>\n",
       "<span style=\"color: #808000; text-decoration-color: #808000; font-weight: bold; text-decoration: underline\">For deployment options and workarounds, see: </span>\n",
       "<span style=\"color: #0000ff; text-decoration-color: #0000ff; text-decoration: underline\">https://docs.aws.amazon.com/bedrock-agentcore/latest/devguide/getting-started-custom.html</span>\n",
       "\n",
       "</pre>\n"
      ],
      "text/plain": [
       "\n",
       "\u001b[1;4;33m⚠️  \u001b[0m\u001b[1;4;33m[\u001b[0m\u001b[1;4;33mWARNING\u001b[0m\u001b[1;4;33m]\u001b[0m\u001b[1;4;33m Platform mismatch: Current system is \u001b[0m\u001b[4;32m'linux/amd64'\u001b[0m\u001b[1;4;33m but Bedrock AgentCore requires \u001b[0m\u001b[4;32m'linux/arm64'\u001b[0m\u001b[1;4;33m.\u001b[0m\n",
       "\u001b[1;4;33mFor deployment options and workarounds, see: \u001b[0m\n",
       "\u001b[4;94mhttps://docs.aws.amazon.com/bedrock-agentcore/latest/devguide/getting-started-custom.html\u001b[0m\n",
       "\n"
      ]
     },
     "metadata": {},
     "output_type": "display_data"
    },
    {
     "name": "stderr",
     "output_type": "stream",
     "text": [
      "Generated Dockerfile: c:\\Users\\ZALIZANZ\\Documents\\personal\\housing-forecast-poc\\forecaster\\Dockerfile\n",
      "Generated .dockerignore: c:\\Users\\ZALIZANZ\\Documents\\personal\\housing-forecast-poc\\forecaster\\.dockerignore\n",
      "Setting 'mcp_server_agentcore' as default agent\n",
      "Bedrock AgentCore configured: c:\\Users\\ZALIZANZ\\Documents\\personal\\housing-forecast-poc\\forecaster\\.bedrock_agentcore.yaml\n"
     ]
    },
    {
     "name": "stdout",
     "output_type": "stream",
     "text": [
      "Configuration completed ✓\n"
     ]
    }
   ],
   "source": [
    "import os\n",
    "os.environ[\"AWS_PROFILE\"] = \"agentcore\"\n",
    "\n",
    "from bedrock_agentcore_starter_toolkit import Runtime\n",
    "from boto3.session import Session\n",
    "import time\n",
    "\n",
    "boto_session = Session()\n",
    "region = boto_session.region_name\n",
    "print(f\"Using AWS region: {region}\")\n",
    "\n",
    "required_files = ['forecast.py', 'requirements.txt']\n",
    "for file in required_files:\n",
    "    if not os.path.exists(file):\n",
    "        raise FileNotFoundError(f\"Required file {file} not found\")\n",
    "print(\"All required files found ✓\")\n",
    "\n",
    "agentcore_runtime = Runtime()\n",
    "\n",
    "auth_config = {\n",
    "    \"customJWTAuthorizer\": {\n",
    "        \"allowedClients\": [\n",
    "            cognito_config['client_id']\n",
    "        ],\n",
    "        \"discoveryUrl\": cognito_config['discovery_url'],\n",
    "    }\n",
    "}\n",
    "\n",
    "print(\"Configuring AgentCore Runtime...\")\n",
    "response = agentcore_runtime.configure(\n",
    "    entrypoint=\"forecast.py\",\n",
    "    auto_create_execution_role=True,\n",
    "    auto_create_ecr=True,\n",
    "    requirements_file=\"requirements.txt\",\n",
    "    region=region,\n",
    "    authorizer_configuration=auth_config,\n",
    "    protocol=\"MCP\",\n",
    "    agent_name=\"mcp_server_agentcore\"\n",
    ")\n",
    "print(\"Configuration completed ✓\")"
   ]
  },
  {
   "cell_type": "markdown",
   "id": "d2853520",
   "metadata": {},
   "source": [
    "<h2>Deploy MCP Server to AgentCore Runtime</h2>"
   ]
  },
  {
   "cell_type": "code",
   "execution_count": 4,
   "id": "4b2fca19",
   "metadata": {},
   "outputs": [
    {
     "name": "stderr",
     "output_type": "stream",
     "text": [
      "🚀 CodeBuild mode: building in cloud (RECOMMENDED - DEFAULT)\n",
      "   • Build ARM64 containers in the cloud with CodeBuild\n",
      "   • No local Docker required\n",
      "💡 Available deployment modes:\n",
      "   • runtime.launch()                           → CodeBuild (current)\n",
      "   • runtime.launch(local=True)                 → Local development\n",
      "   • runtime.launch(local_build=True)           → Local build + cloud deploy (NEW)\n",
      "Starting CodeBuild ARM64 deployment for agent 'mcp_server_agentcore' to account 966080101830 (us-east-1)\n",
      "Starting CodeBuild ARM64 deployment for agent 'mcp_server_agentcore' to account 966080101830 (us-east-1)\n",
      "Setting up AWS resources (ECR repository, execution roles)...\n",
      "Getting or creating ECR repository for agent: mcp_server_agentcore\n"
     ]
    },
    {
     "name": "stdout",
     "output_type": "stream",
     "text": [
      "Launching MCP server to AgentCore Runtime...\n",
      "This may take several minutes...\n"
     ]
    },
    {
     "name": "stderr",
     "output_type": "stream",
     "text": [
      "✅ ECR repository available: 966080101830.dkr.ecr.us-east-1.amazonaws.com/bedrock-agentcore-mcp_server_agentcore\n",
      "Getting or creating execution role for agent: mcp_server_agentcore\n",
      "Using AWS region: us-east-1, account ID: 966080101830\n",
      "Role name: AmazonBedrockAgentCoreSDKRuntime-us-east-1-7f3ae149b4\n"
     ]
    },
    {
     "name": "stdout",
     "output_type": "stream",
     "text": [
      "✅ Reusing existing ECR repository: 966080101830.dkr.ecr.us-east-1.amazonaws.com/bedrock-agentcore-mcp_server_agentcore\n"
     ]
    },
    {
     "name": "stderr",
     "output_type": "stream",
     "text": [
      "✅ Reusing existing execution role: arn:aws:iam::966080101830:role/AmazonBedrockAgentCoreSDKRuntime-us-east-1-7f3ae149b4\n",
      "✅ Execution role available: arn:aws:iam::966080101830:role/AmazonBedrockAgentCoreSDKRuntime-us-east-1-7f3ae149b4\n",
      "Preparing CodeBuild project and uploading source...\n",
      "Getting or creating CodeBuild execution role for agent: mcp_server_agentcore\n",
      "Role name: AmazonBedrockAgentCoreSDKCodeBuild-us-east-1-7f3ae149b4\n",
      "Reusing existing CodeBuild execution role: arn:aws:iam::966080101830:role/AmazonBedrockAgentCoreSDKCodeBuild-us-east-1-7f3ae149b4\n",
      "Using .dockerignore with 44 patterns\n",
      "Uploaded source to S3: mcp_server_agentcore/20250903-081242.zip\n",
      "Updated CodeBuild project: bedrock-agentcore-mcp_server_agentcore-builder\n",
      "Starting CodeBuild build (this may take several minutes)...\n",
      "Starting CodeBuild monitoring...\n",
      "🔄 QUEUED started (total: 0s)\n",
      "✅ QUEUED completed in 5.3s\n",
      "🔄 PROVISIONING started (total: 6s)\n",
      "✅ PROVISIONING completed in 10.6s\n",
      "🔄 PRE_BUILD started (total: 16s)\n",
      "✅ PRE_BUILD completed in 5.4s\n",
      "🔄 BUILD started (total: 22s)\n",
      "✅ BUILD completed in 26.8s\n",
      "🔄 POST_BUILD started (total: 48s)\n",
      "✅ POST_BUILD completed in 5.3s\n",
      "🔄 COMPLETED started (total: 54s)\n",
      "✅ COMPLETED completed in 0.0s\n",
      "🎉 CodeBuild completed successfully in 0m 53s\n",
      "CodeBuild completed successfully\n",
      "✅ CodeBuild project configuration saved\n",
      "Deploying to Bedrock AgentCore...\n",
      "✅ Agent created/updated: arn:aws:bedrock-agentcore:us-east-1:966080101830:runtime/mcp_server_agentcore-S1bHZKAQcK\n",
      "Polling for endpoint to be ready...\n",
      "Agent endpoint: arn:aws:bedrock-agentcore:us-east-1:966080101830:runtime/mcp_server_agentcore-S1bHZKAQcK/runtime-endpoint/DEFAULT\n",
      "Deployment completed successfully - Agent: arn:aws:bedrock-agentcore:us-east-1:966080101830:runtime/mcp_server_agentcore-S1bHZKAQcK\n",
      "Built with CodeBuild: bedrock-agentcore-mcp_server_agentcore-builder:4b36ddc9-4ace-411a-8681-b3fb94c4e02f\n",
      "Deployed to cloud: arn:aws:bedrock-agentcore:us-east-1:966080101830:runtime/mcp_server_agentcore-S1bHZKAQcK\n",
      "ECR image: 966080101830.dkr.ecr.us-east-1.amazonaws.com/bedrock-agentcore-mcp_server_agentcore\n",
      "🔍 Agent logs available at:\n",
      "   /aws/bedrock-agentcore/runtimes/mcp_server_agentcore-S1bHZKAQcK-DEFAULT\n",
      "   /aws/bedrock-agentcore/runtimes/mcp_server_agentcore-S1bHZKAQcK-DEFAULT/runtime-logs\n",
      "💡 Tail logs with: aws logs tail /aws/bedrock-agentcore/runtimes/mcp_server_agentcore-S1bHZKAQcK-DEFAULT --follow\n",
      "💡 Or view recent logs: aws logs tail /aws/bedrock-agentcore/runtimes/mcp_server_agentcore-S1bHZKAQcK-DEFAULT --since 1h\n"
     ]
    },
    {
     "name": "stdout",
     "output_type": "stream",
     "text": [
      "Launch completed ✓\n",
      "Agent ARN: arn:aws:bedrock-agentcore:us-east-1:966080101830:runtime/mcp_server_agentcore-S1bHZKAQcK\n",
      "Agent ID: mcp_server_agentcore-S1bHZKAQcK\n"
     ]
    }
   ],
   "source": [
    "print(\"Launching MCP server to AgentCore Runtime...\")\n",
    "print(\"This may take several minutes...\")\n",
    "launch_result = agentcore_runtime.launch()\n",
    "print(\"Launch completed ✓\")\n",
    "print(f\"Agent ARN: {launch_result.agent_arn}\")\n",
    "print(f\"Agent ID: {launch_result.agent_id}\")"
   ]
  },
  {
   "cell_type": "markdown",
   "id": "6e1b51fb",
   "metadata": {},
   "source": [
    "<h2>Checking Agentcore Runtime Status</h2>"
   ]
  },
  {
   "cell_type": "code",
   "execution_count": 5,
   "id": "3e372973",
   "metadata": {},
   "outputs": [
    {
     "name": "stdout",
     "output_type": "stream",
     "text": [
      "Checking AgentCore Runtime status...\n"
     ]
    },
    {
     "name": "stderr",
     "output_type": "stream",
     "text": [
      "Retrieved Bedrock AgentCore status for: mcp_server_agentcore\n"
     ]
    },
    {
     "name": "stdout",
     "output_type": "stream",
     "text": [
      "Initial status: READY\n",
      "✓ AgentCore Runtime is READY!\n",
      "Final status: READY\n"
     ]
    }
   ],
   "source": [
    "print(\"Checking AgentCore Runtime status...\")\n",
    "status_response = agentcore_runtime.status()\n",
    "status = status_response.endpoint['status']\n",
    "print(f\"Initial status: {status}\")\n",
    "\n",
    "end_status = ['READY', 'CREATE_FAILED', 'DELETE_FAILED', 'UPDATE_FAILED']\n",
    "while status not in end_status:\n",
    "    print(f\"Status: {status} - waiting...\")\n",
    "    time.sleep(10)\n",
    "    status_response = agentcore_runtime.status()\n",
    "    status = status_response.endpoint['status']\n",
    "\n",
    "if status == 'READY':\n",
    "    print(\"✓ AgentCore Runtime is READY!\")\n",
    "else:\n",
    "    print(f\"⚠ AgentCore Runtime status: {status}\")\n",
    "    \n",
    "print(f\"Final status: {status}\")"
   ]
  },
  {
   "cell_type": "markdown",
   "id": "4b44faa1",
   "metadata": {},
   "source": [
    "<h2>Store Configuration in Parameter Store and Secret Manager For Remote Access</h2>"
   ]
  },
  {
   "cell_type": "code",
   "execution_count": 6,
   "id": "06676eaa",
   "metadata": {},
   "outputs": [
    {
     "name": "stdout",
     "output_type": "stream",
     "text": [
      "✓ Cognito credentials stored in Secrets Manager\n",
      "✓ Agent ARN stored in Parameter Store\n",
      "\n",
      "Configuration stored successfully!\n",
      "Agent ARN: arn:aws:bedrock-agentcore:us-east-1:966080101830:runtime/mcp_server_agentcore-S1bHZKAQcK\n"
     ]
    }
   ],
   "source": [
    "import boto3\n",
    "import json\n",
    "\n",
    "ssm_client = boto3.client('ssm', region_name=region)\n",
    "secrets_client = boto3.client('secretsmanager', region_name=region)\n",
    "\n",
    "try:\n",
    "    cognito_credentials_response = secrets_client.create_secret(\n",
    "        Name='mcp_server/cognito/credentials',\n",
    "        Description='Cognito credentials for MCP server',\n",
    "        SecretString=json.dumps(cognito_config)\n",
    "    )\n",
    "    print(\"✓ Cognito credentials stored in Secrets Manager\")\n",
    "except secrets_client.exceptions.ResourceExistsException:\n",
    "    secrets_client.update_secret(\n",
    "        SecretId='mcp_server/cognito/credentials',\n",
    "        SecretString=json.dumps(cognito_config)\n",
    "    )\n",
    "    print(\"✓ Cognito credentials updated in Secrets Manager\")\n",
    "\n",
    "agent_arn_response = ssm_client.put_parameter(\n",
    "    Name='/mcp_server/runtime/agent_arn',\n",
    "    Value=launch_result.agent_arn,\n",
    "    Type='String',\n",
    "    Description='Agent ARN for MCP server',\n",
    "    Overwrite=True\n",
    ")\n",
    "print(\"✓ Agent ARN stored in Parameter Store\")\n",
    "\n",
    "print(\"\\nConfiguration stored successfully!\")\n",
    "print(f\"Agent ARN: {launch_result.agent_arn}\")"
   ]
  },
  {
   "cell_type": "markdown",
   "id": "d3704a14",
   "metadata": {},
   "source": [
    "<h2>Clean Up</h2>"
   ]
  },
  {
   "cell_type": "code",
   "execution_count": 7,
   "id": "c6c87548",
   "metadata": {},
   "outputs": [
    {
     "name": "stdout",
     "output_type": "stream",
     "text": [
      "🗑️  Starting cleanup process...\n",
      "Deleting AgentCore Runtime...\n",
      "✓ AgentCore Runtime deletion initiated\n",
      "Deleting ECR repository...\n",
      "✓ ECR repository deleted\n",
      "✓ Parameter Store parameter deleted\n",
      "✓ Secrets Manager secret deleted\n",
      "\n",
      "✅ Cleanup completed successfully!\n"
     ]
    }
   ],
   "source": [
    "import boto3\n",
    "\n",
    "print(\"🗑️  Starting cleanup process...\")\n",
    "\n",
    "agentcore_control_client = boto3.client('bedrock-agentcore-control', region_name=region)\n",
    "ecr_client = boto3.client('ecr', region_name=region)\n",
    "ssm_client = boto3.client('ssm', region_name=region)\n",
    "secrets_client = boto3.client('secretsmanager', region_name=region)\n",
    "\n",
    "try:\n",
    "    print(\"Deleting AgentCore Runtime...\")\n",
    "    runtime_delete_response = agentcore_control_client.delete_agent_runtime(\n",
    "        agentRuntimeId=launch_result.agent_id,\n",
    "    )\n",
    "    print(\"✓ AgentCore Runtime deletion initiated\")\n",
    "\n",
    "    print(\"Deleting ECR repository...\")\n",
    "    ecr_repo_name = launch_result.ecr_uri.split('/')[1]\n",
    "    ecr_client.delete_repository(\n",
    "        repositoryName=ecr_repo_name,\n",
    "        force=True\n",
    "    )\n",
    "    print(\"✓ ECR repository deleted\")\n",
    "\n",
    "    try:\n",
    "        ssm_client.delete_parameter(Name='/mcp_server/runtime/agent_arn')\n",
    "        print(\"✓ Parameter Store parameter deleted\")\n",
    "    except ssm_client.exceptions.ParameterNotFound:\n",
    "        print(\"ℹ️  Parameter Store parameter not found\")\n",
    "    try:\n",
    "        secrets_client.delete_secret(\n",
    "            SecretId='mcp_server/cognito/credentials',\n",
    "            ForceDeleteWithoutRecovery=True\n",
    "        )\n",
    "        print(\"✓ Secrets Manager secret deleted\")\n",
    "    except secrets_client.exceptions.ResourceNotFoundException:\n",
    "        print(\"ℹ️  Secrets Manager secret not found\")\n",
    "\n",
    "    print(\"\\n✅ Cleanup completed successfully!\")\n",
    "    \n",
    "except Exception as e:\n",
    "    print(f\"❌ Error during cleanup: {e}\")\n",
    "    print(\"You may need to manually clean up some resources.\")"
   ]
  }
 ],
 "metadata": {
  "kernelspec": {
   "display_name": "forecaster (3.13.7)",
   "language": "python",
   "name": "python3"
  },
  "language_info": {
   "codemirror_mode": {
    "name": "ipython",
    "version": 3
   },
   "file_extension": ".py",
   "mimetype": "text/x-python",
   "name": "python",
   "nbconvert_exporter": "python",
   "pygments_lexer": "ipython3",
   "version": "3.13.7"
  }
 },
 "nbformat": 4,
 "nbformat_minor": 5
}
