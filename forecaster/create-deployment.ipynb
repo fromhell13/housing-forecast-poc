{
 "cells": [
  {
   "cell_type": "markdown",
   "id": "a29274d8",
   "metadata": {},
   "source": [
    "<h2>Setup AWS Cognito</h2>"
   ]
  },
  {
   "cell_type": "code",
   "execution_count": null,
   "id": "175e6225",
   "metadata": {},
   "outputs": [],
   "source": [
    "import sys\n",
    "import os\n",
    "\n",
    "print(sys.executable)\n",
    "# Get the current notebook's directory\n",
    "#current_dir = os.path.dirname(os.path.abspath('__file__' if '__file__' in globals() else '.'))\n",
    "current_dir = os.getcwd()\n",
    "\n",
    "utils_dir = os.path.join(current_dir, 'utils')\n",
    "utils_dir = os.path.abspath(utils_dir)\n",
    "print(utils_dir)\n",
    "# Add to sys.path\n",
    "sys.path.insert(0, utils_dir)\n",
    "print(\"sys.path[0]:\", sys.path[0])\n",
    "\n",
    "from utils import setup_cognito_user_pool"
   ]
  },
  {
   "cell_type": "code",
   "execution_count": null,
   "id": "22994b5b",
   "metadata": {},
   "outputs": [],
   "source": [
    "print(\"Setting up Amazon Cognito user pool...\")\n",
    "cognito_config = setup_cognito_user_pool()\n",
    "print(\"Cognito setup completed ✓\")\n",
    "print(f\"User Pool ID: {cognito_config.get('user_pool_id', 'N/A')}\")\n",
    "print(f\"Client ID: {cognito_config.get('client_id', 'N/A')}\")"
   ]
  },
  {
   "cell_type": "markdown",
   "id": "324d8ddf",
   "metadata": {},
   "source": [
    "<h2>Configure Agentcore Runtime Deployment</h2>"
   ]
  },
  {
   "cell_type": "code",
   "execution_count": null,
   "id": "1522fae9",
   "metadata": {},
   "outputs": [],
   "source": [
    "import os\n",
    "os.environ[\"AWS_PROFILE\"] = \"agentcore\"\n",
    "\n",
    "from bedrock_agentcore_starter_toolkit import Runtime\n",
    "from boto3.session import Session\n",
    "import time\n",
    "\n",
    "boto_session = Session()\n",
    "region = boto_session.region_name\n",
    "print(f\"Using AWS region: {region}\")\n",
    "\n",
    "required_files = ['forecast.py', 'requirements.txt']\n",
    "for file in required_files:\n",
    "    if not os.path.exists(file):\n",
    "        raise FileNotFoundError(f\"Required file {file} not found\")\n",
    "print(\"All required files found ✓\")\n",
    "\n",
    "agentcore_runtime = Runtime()\n",
    "\n",
    "auth_config = {\n",
    "    \"customJWTAuthorizer\": {\n",
    "        \"allowedClients\": [\n",
    "            cognito_config['client_id']\n",
    "        ],\n",
    "        \"discoveryUrl\": cognito_config['discovery_url'],\n",
    "    }\n",
    "}\n",
    "\n",
    "print(\"Configuring AgentCore Runtime...\")\n",
    "response = agentcore_runtime.configure(\n",
    "    entrypoint=\"forecast.py\",\n",
    "    auto_create_execution_role=True,\n",
    "    auto_create_ecr=True,\n",
    "    requirements_file=\"requirements.txt\",\n",
    "    region=region,\n",
    "    authorizer_configuration=auth_config,\n",
    "    protocol=\"MCP\",\n",
    "    agent_name=\"mcp_server_agentcore\"\n",
    ")\n",
    "print(\"Configuration completed ✓\")"
   ]
  },
  {
   "cell_type": "markdown",
   "id": "d2853520",
   "metadata": {},
   "source": [
    "<h2>Deploy MCP Server to AgentCore Runtime</h2>"
   ]
  },
  {
   "cell_type": "code",
   "execution_count": null,
   "id": "4b2fca19",
   "metadata": {},
   "outputs": [],
   "source": [
    "print(\"Launching MCP server to AgentCore Runtime...\")\n",
    "print(\"This may take several minutes...\")\n",
    "launch_result = agentcore_runtime.launch()\n",
    "print(\"Launch completed ✓\")\n",
    "print(f\"Agent ARN: {launch_result.agent_arn}\")\n",
    "print(f\"Agent ID: {launch_result.agent_id}\")"
   ]
  },
  {
   "cell_type": "markdown",
   "id": "6e1b51fb",
   "metadata": {},
   "source": [
    "<h2>Checking Agentcore Runtime Status</h2>"
   ]
  },
  {
   "cell_type": "code",
   "execution_count": null,
   "id": "3e372973",
   "metadata": {},
   "outputs": [],
   "source": [
    "print(\"Checking AgentCore Runtime status...\")\n",
    "status_response = agentcore_runtime.status()\n",
    "status = status_response.endpoint['status']\n",
    "print(f\"Initial status: {status}\")\n",
    "\n",
    "end_status = ['READY', 'CREATE_FAILED', 'DELETE_FAILED', 'UPDATE_FAILED']\n",
    "while status not in end_status:\n",
    "    print(f\"Status: {status} - waiting...\")\n",
    "    time.sleep(10)\n",
    "    status_response = agentcore_runtime.status()\n",
    "    status = status_response.endpoint['status']\n",
    "\n",
    "if status == 'READY':\n",
    "    print(\"✓ AgentCore Runtime is READY!\")\n",
    "else:\n",
    "    print(f\"⚠ AgentCore Runtime status: {status}\")\n",
    "    \n",
    "print(f\"Final status: {status}\")"
   ]
  },
  {
   "cell_type": "markdown",
   "id": "4b44faa1",
   "metadata": {},
   "source": [
    "<h2>Store Configuration in Parameter Store and Secret Manager For Remote Access</h2>"
   ]
  },
  {
   "cell_type": "code",
   "execution_count": null,
   "id": "06676eaa",
   "metadata": {},
   "outputs": [],
   "source": [
    "import boto3\n",
    "import json\n",
    "\n",
    "ssm_client = boto3.client('ssm', region_name=region)\n",
    "secrets_client = boto3.client('secretsmanager', region_name=region)\n",
    "\n",
    "try:\n",
    "    cognito_credentials_response = secrets_client.create_secret(\n",
    "        Name='mcp_server/cognito/credentials',\n",
    "        Description='Cognito credentials for MCP server',\n",
    "        SecretString=json.dumps(cognito_config)\n",
    "    )\n",
    "    print(\"✓ Cognito credentials stored in Secrets Manager\")\n",
    "except secrets_client.exceptions.ResourceExistsException:\n",
    "    secrets_client.update_secret(\n",
    "        SecretId='mcp_server/cognito/credentials',\n",
    "        SecretString=json.dumps(cognito_config)\n",
    "    )\n",
    "    print(\"✓ Cognito credentials updated in Secrets Manager\")\n",
    "\n",
    "agent_arn_response = ssm_client.put_parameter(\n",
    "    Name='/mcp_server/runtime/agent_arn',\n",
    "    Value=launch_result.agent_arn,\n",
    "    Type='String',\n",
    "    Description='Agent ARN for MCP server',\n",
    "    Overwrite=True\n",
    ")\n",
    "print(\"✓ Agent ARN stored in Parameter Store\")\n",
    "\n",
    "print(\"\\nConfiguration stored successfully!\")\n",
    "print(f\"Agent ARN: {launch_result.agent_arn}\")"
   ]
  },
  {
   "cell_type": "markdown",
   "id": "d3704a14",
   "metadata": {},
   "source": [
    "<h2>Clean Up</h2>"
   ]
  },
  {
   "cell_type": "code",
   "execution_count": null,
   "id": "c6c87548",
   "metadata": {},
   "outputs": [],
   "source": [
    "import boto3\n",
    "\n",
    "print(\"🗑️  Starting cleanup process...\")\n",
    "\n",
    "agentcore_control_client = boto3.client('bedrock-agentcore-control', region_name=region)\n",
    "ecr_client = boto3.client('ecr', region_name=region)\n",
    "ssm_client = boto3.client('ssm', region_name=region)\n",
    "secrets_client = boto3.client('secretsmanager', region_name=region)\n",
    "\n",
    "try:\n",
    "    print(\"Deleting AgentCore Runtime...\")\n",
    "    runtime_delete_response = agentcore_control_client.delete_agent_runtime(\n",
    "        agentRuntimeId=launch_result.agent_id,\n",
    "    )\n",
    "    print(\"✓ AgentCore Runtime deletion initiated\")\n",
    "\n",
    "    print(\"Deleting ECR repository...\")\n",
    "    ecr_repo_name = launch_result.ecr_uri.split('/')[1]\n",
    "    ecr_client.delete_repository(\n",
    "        repositoryName=ecr_repo_name,\n",
    "        force=True\n",
    "    )\n",
    "    print(\"✓ ECR repository deleted\")\n",
    "\n",
    "    try:\n",
    "        ssm_client.delete_parameter(Name='/mcp_server/runtime/agent_arn')\n",
    "        print(\"✓ Parameter Store parameter deleted\")\n",
    "    except ssm_client.exceptions.ParameterNotFound:\n",
    "        print(\"ℹ️  Parameter Store parameter not found\")\n",
    "    try:\n",
    "        secrets_client.delete_secret(\n",
    "            SecretId='mcp_server/cognito/credentials',\n",
    "            ForceDeleteWithoutRecovery=True\n",
    "        )\n",
    "        print(\"✓ Secrets Manager secret deleted\")\n",
    "    except secrets_client.exceptions.ResourceNotFoundException:\n",
    "        print(\"ℹ️  Secrets Manager secret not found\")\n",
    "\n",
    "    print(\"\\n✅ Cleanup completed successfully!\")\n",
    "    \n",
    "except Exception as e:\n",
    "    print(f\"❌ Error during cleanup: {e}\")\n",
    "    print(\"You may need to manually clean up some resources.\")"
   ]
  }
 ],
 "metadata": {
  "kernelspec": {
   "display_name": "forecaster (3.13.7)",
   "language": "python",
   "name": "python3"
  },
  "language_info": {
   "codemirror_mode": {
    "name": "ipython",
    "version": 3
   },
   "file_extension": ".py",
   "mimetype": "text/x-python",
   "name": "python",
   "nbconvert_exporter": "python",
   "pygments_lexer": "ipython3",
   "version": "3.13.7"
  }
 },
 "nbformat": 4,
 "nbformat_minor": 5
}
